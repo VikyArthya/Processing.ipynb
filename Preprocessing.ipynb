{
  "nbformat": 4,
  "nbformat_minor": 0,
  "metadata": {
    "colab": {
      "provenance": []
    },
    "kernelspec": {
      "name": "python3",
      "display_name": "Python 3"
    }
  },
  "cells": [
    {
      "cell_type": "code",
      "metadata": {
        "id": "2DKDpXsb8Tym"
      },
      "source": [
        "import numpy as np\n",
        "import matplotlib.pyplot as plt\n",
        "import pandas as pd"
      ],
      "execution_count": 51,
      "outputs": []
    },
    {
      "cell_type": "code",
      "metadata": {
        "id": "JPDFYyq7G_RF"
      },
      "source": [
        "dataset = pd.read_csv('Data.csv')\n",
        "x = dataset.iloc[:, :-1].values\n",
        "y = dataset.iloc[:, -1].values"
      ],
      "execution_count": 52,
      "outputs": []
    },
    {
      "cell_type": "code",
      "metadata": {
        "id": "kb9GarmBH-8Z",
        "colab": {
          "base_uri": "https://localhost:8080/"
        },
        "outputId": "d33ade0f-b3ef-43d7-949b-d4c6f14e8747"
      },
      "source": [
        "print(x)"
      ],
      "execution_count": 53,
      "outputs": [
        {
          "output_type": "stream",
          "name": "stdout",
          "text": [
            "[['Indonesia' 34.0 71000.0]\n",
            " ['Japan' 17.0 47000.0]\n",
            " ['Korea' 20.0 53000.0]\n",
            " ['Japan' 28.0 60000.0]\n",
            " ['Korea' 30.0 nan]\n",
            " ['Indonesia' 25.0 57000.0]\n",
            " ['Japan' nan 51000.0]\n",
            " ['Indonesia' 38.0 78000.0]\n",
            " ['Korea' 40.0 82000.0]\n",
            " ['Indonesia' 27.0 66000.0]]\n"
          ]
        }
      ]
    },
    {
      "cell_type": "code",
      "metadata": {
        "colab": {
          "base_uri": "https://localhost:8080/"
        },
        "id": "fPYNdjZzIR6J",
        "outputId": "b57797a0-0af5-4c4a-e259-d243e4ccd6d1"
      },
      "source": [
        "print(y)"
      ],
      "execution_count": 54,
      "outputs": [
        {
          "output_type": "stream",
          "name": "stdout",
          "text": [
            "['No' 'Yes' 'No' 'No' 'Yes' 'Yes' 'No' 'Yes' 'No' 'Yes']\n"
          ]
        }
      ]
    },
    {
      "cell_type": "code",
      "metadata": {
        "id": "tliVpM6bIgu9"
      },
      "source": [
        "from sklearn.impute import SimpleImputer\n",
        "imputer = SimpleImputer(missing_values=np.nan, strategy='mean')\n",
        "imputer.fit(x[:, 1:3])\n",
        "x[:, 1:3] = imputer.transform(x[:, 1:3])"
      ],
      "execution_count": 55,
      "outputs": []
    },
    {
      "cell_type": "code",
      "metadata": {
        "colab": {
          "base_uri": "https://localhost:8080/"
        },
        "id": "-dmcXYMLJcDf",
        "outputId": "befaeac7-3b70-4d93-b4bd-4fbc33c73df1"
      },
      "source": [
        "print(x)"
      ],
      "execution_count": 56,
      "outputs": [
        {
          "output_type": "stream",
          "name": "stdout",
          "text": [
            "[['Indonesia' 34.0 71000.0]\n",
            " ['Japan' 17.0 47000.0]\n",
            " ['Korea' 20.0 53000.0]\n",
            " ['Japan' 28.0 60000.0]\n",
            " ['Korea' 30.0 62777.77777777778]\n",
            " ['Indonesia' 25.0 57000.0]\n",
            " ['Japan' 28.77777777777778 51000.0]\n",
            " ['Indonesia' 38.0 78000.0]\n",
            " ['Korea' 40.0 82000.0]\n",
            " ['Indonesia' 27.0 66000.0]]\n"
          ]
        }
      ]
    },
    {
      "cell_type": "code",
      "metadata": {
        "id": "PTFBpzBBJt65"
      },
      "source": [
        "from sklearn.compose import ColumnTransformer\n",
        "from sklearn.preprocessing import OneHotEncoder\n",
        "ct = ColumnTransformer(transformers=[('encoder', OneHotEncoder(), [0])], remainder='passthrough')\n",
        "x = np.array(ct.fit_transform(x))"
      ],
      "execution_count": 57,
      "outputs": []
    },
    {
      "cell_type": "code",
      "metadata": {
        "colab": {
          "base_uri": "https://localhost:8080/"
        },
        "id": "P_9GQ4P3KuNV",
        "outputId": "d04ae9b1-fd07-4e75-f83d-809faecf6bd6"
      },
      "source": [
        "print(x)"
      ],
      "execution_count": 58,
      "outputs": [
        {
          "output_type": "stream",
          "name": "stdout",
          "text": [
            "[[1.0 0.0 0.0 34.0 71000.0]\n",
            " [0.0 1.0 0.0 17.0 47000.0]\n",
            " [0.0 0.0 1.0 20.0 53000.0]\n",
            " [0.0 1.0 0.0 28.0 60000.0]\n",
            " [0.0 0.0 1.0 30.0 62777.77777777778]\n",
            " [1.0 0.0 0.0 25.0 57000.0]\n",
            " [0.0 1.0 0.0 28.77777777777778 51000.0]\n",
            " [1.0 0.0 0.0 38.0 78000.0]\n",
            " [0.0 0.0 1.0 40.0 82000.0]\n",
            " [1.0 0.0 0.0 27.0 66000.0]]\n"
          ]
        }
      ]
    },
    {
      "cell_type": "code",
      "metadata": {
        "id": "c73-6zWjLBgo"
      },
      "source": [
        "from sklearn.preprocessing import LabelEncoder\n",
        "le = LabelEncoder()\n",
        "y = le.fit_transform(y)"
      ],
      "execution_count": 59,
      "outputs": []
    },
    {
      "cell_type": "code",
      "metadata": {
        "colab": {
          "base_uri": "https://localhost:8080/"
        },
        "id": "Go3MqGP-LS5P",
        "outputId": "b03e0caf-6b90-4931-c28b-a0f8cb29c8f7"
      },
      "source": [
        "print(y)"
      ],
      "execution_count": 60,
      "outputs": [
        {
          "output_type": "stream",
          "name": "stdout",
          "text": [
            "[0 1 0 0 1 1 0 1 0 1]\n"
          ]
        }
      ]
    },
    {
      "cell_type": "code",
      "metadata": {
        "id": "-fBBg0UWLryt"
      },
      "source": [
        "from sklearn.model_selection import train_test_split\n",
        "x_train, x_test, y_train, y_test = train_test_split(x, y, test_size=0.2, random_state=1)"
      ],
      "execution_count": 61,
      "outputs": []
    },
    {
      "cell_type": "code",
      "metadata": {
        "colab": {
          "base_uri": "https://localhost:8080/"
        },
        "id": "h4nkKTl6MXuJ",
        "outputId": "b6789fdb-4bb7-4f10-b617-d0429fc3cc86"
      },
      "source": [
        "print(x_train)"
      ],
      "execution_count": 44,
      "outputs": [
        {
          "output_type": "stream",
          "name": "stdout",
          "text": [
            "[[0.0 0.0 1.0 -0.19159184384578545 -1.0781259408412425]\n",
            " [0.0 1.0 0.0 -0.014117293757057777 -0.07013167641635372]\n",
            " [1.0 0.0 0.0 0.566708506533324 0.633562432710455]\n",
            " [0.0 0.0 1.0 -0.30453019390224867 -0.30786617274297867]\n",
            " [0.0 0.0 1.0 -1.9018011447007988 -1.420463615551582]\n",
            " [1.0 0.0 0.0 1.1475343068237058 1.232653363453549]\n",
            " [0.0 1.0 0.0 1.4379472069688968 1.5749910381638885]\n",
            " [1.0 0.0 0.0 -0.7401495441200351 -0.5646194287757332]]\n"
          ]
        }
      ]
    },
    {
      "cell_type": "code",
      "metadata": {
        "colab": {
          "base_uri": "https://localhost:8080/"
        },
        "id": "oVehWU-sMoX7",
        "outputId": "f794844a-3318-40ca-b1b5-6fe191c4c097"
      },
      "source": [
        "print(x_test)"
      ],
      "execution_count": 62,
      "outputs": [
        {
          "output_type": "stream",
          "name": "stdout",
          "text": [
            "[[0.0 0.0 1.0 20.0 53000.0]\n",
            " [1.0 0.0 0.0 27.0 66000.0]]\n"
          ]
        }
      ]
    },
    {
      "cell_type": "code",
      "metadata": {
        "colab": {
          "base_uri": "https://localhost:8080/"
        },
        "id": "HOqPlt8xMwaD",
        "outputId": "400c90a7-0f18-4465-e49b-79eb7db16d59"
      },
      "source": [
        "print(y_train)"
      ],
      "execution_count": 63,
      "outputs": [
        {
          "output_type": "stream",
          "name": "stdout",
          "text": [
            "[0 1 0 0 1 1 0 1]\n"
          ]
        }
      ]
    },
    {
      "cell_type": "code",
      "metadata": {
        "colab": {
          "base_uri": "https://localhost:8080/"
        },
        "id": "KjwFgNXiM15F",
        "outputId": "f762fc0c-86ef-4214-a657-d3f130dea528"
      },
      "source": [
        "print(y_test)"
      ],
      "execution_count": 64,
      "outputs": [
        {
          "output_type": "stream",
          "name": "stdout",
          "text": [
            "[0 1]\n"
          ]
        }
      ]
    },
    {
      "cell_type": "code",
      "metadata": {
        "id": "8wPE4Hb5NLhP"
      },
      "source": [
        "from sklearn.preprocessing import StandardScaler\n",
        "sc = StandardScaler()\n",
        "x_train[:, 3:] = sc.fit_transform(x_train[:, 3:])\n",
        "x_test[:, 3:] = sc.transform(x_test[:, 3:])"
      ],
      "execution_count": 65,
      "outputs": []
    },
    {
      "cell_type": "code",
      "metadata": {
        "colab": {
          "base_uri": "https://localhost:8080/"
        },
        "id": "dJVHGwyZOC6U",
        "outputId": "f59d4477-cc3a-476b-f2e9-beb785bfae46"
      },
      "source": [
        "print(x_train)"
      ],
      "execution_count": 66,
      "outputs": [
        {
          "output_type": "stream",
          "name": "stdout",
          "text": [
            "[[0.0 1.0 0.0 -0.19159184384578545 -1.0781259408412425]\n",
            " [0.0 0.0 1.0 -0.014117293757057777 -0.07013167641635372]\n",
            " [1.0 0.0 0.0 0.566708506533324 0.633562432710455]\n",
            " [0.0 1.0 0.0 -0.30453019390224867 -0.30786617274297867]\n",
            " [0.0 1.0 0.0 -1.9018011447007988 -1.420463615551582]\n",
            " [1.0 0.0 0.0 1.1475343068237058 1.232653363453549]\n",
            " [0.0 0.0 1.0 1.4379472069688968 1.5749910381638885]\n",
            " [1.0 0.0 0.0 -0.7401495441200351 -0.5646194287757332]]\n"
          ]
        }
      ]
    },
    {
      "cell_type": "code",
      "metadata": {
        "id": "uVN7n0clOOTM",
        "colab": {
          "base_uri": "https://localhost:8080/"
        },
        "outputId": "c036232e-e696-43aa-980b-3dea35d78b92"
      },
      "source": [
        "print(x_test)"
      ],
      "execution_count": 67,
      "outputs": [
        {
          "output_type": "stream",
          "name": "stdout",
          "text": [
            "[[0.0 0.0 1.0 -1.4661817944830124 -0.9069571034860727]\n",
            " [1.0 0.0 0.0 -0.44973664397484414 0.2056403393225306]]\n"
          ]
        }
      ]
    }
  ]
}